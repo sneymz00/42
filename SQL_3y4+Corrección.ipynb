{
  "cells": [
    {
      "cell_type": "markdown",
      "metadata": {
        "id": "view-in-github",
        "colab_type": "text"
      },
      "source": [
        "<a href=\"https://colab.research.google.com/github/sneymz00/42/blob/master/SQL_3y4%2BCorrecci%C3%B3n.ipynb\" target=\"_parent\"><img src=\"https://colab.research.google.com/assets/colab-badge.svg\" alt=\"Open In Colab\"/></a>"
      ]
    },
    {
      "cell_type": "markdown",
      "metadata": {
        "id": "XZO2A4Ci34D8"
      },
      "source": [
        "# 📊 REPASO SQL BÁSICO - ORDER BY Y JOINS\n",
        "**Ejercicios para dominar ordenamiento y uniones de tablas**\n",
        "\n",
        "---\n",
        "\n",
        "## 🎯 OBJETIVOS DE ESTE REPASO\n",
        "\n",
        "Este notebook se enfoca en dos conceptos fundamentales:\n",
        "\n",
        "### **📊 EJERCICIO 3: ORDER BY**\n",
        "- ✅ **ORDER BY básico** - Una columna ASC/DESC\n",
        "- ✅ **ORDER BY múltiple** - Múltiples columnas\n",
        "- ✅ **ORDER BY + LIMIT** - Top N resultados\n",
        "- ✅ **Combinaciones** con WHERE y otras cláusulas\n",
        "\n",
        "### **🔗 EJERCICIO 4: JOINs BÁSICOS**\n",
        "- ✅ **INNER JOIN** - Solo registros que coinciden\n",
        "- ✅ **LEFT JOIN** - Incluir registros sin coincidencias\n",
        "- ✅ **JOINs con cálculos** - Agregar computaciones\n",
        "- ✅ **JOINs múltiples** - 3+ tablas\n",
        "\n",
        "### **🏆 EJERCICIO FINAL**\n",
        "- ✅ **Integración completa** - Combina todo lo aprendido\n",
        "- ✅ **Casos de negocio** - Problemas reales de análisis\n",
        "- ✅ **Nivel medio** - Un paso más allá de lo básico\n",
        "\n",
        "### 📋 **Base de datos:**\n",
        "- **4 tablas relacionadas**: categorias, clientes, productos, ventas\n",
        "- **Datos realistas**: tienda online con categorías, clientes y ventas\n",
        "- **Relaciones claras**: foreign keys bien definidas\n",
        "\n",
        "---\n",
        "\n",
        "## 🔧 SETUP INICIAL"
      ]
    },
    {
      "cell_type": "code",
      "execution_count": null,
      "metadata": {
        "id": "KrGu4liq34EC"
      },
      "outputs": [],
      "source": [
        "# Configurar entorno para ORDER BY y JOINs\n",
        "import sqlite3\n",
        "import pandas as pd\n",
        "import matplotlib.pyplot as plt\n",
        "import seaborn as sns\n",
        "import numpy as np\n",
        "\n",
        "# Crear conexión\n",
        "conn = sqlite3.connect(':memory:')\n",
        "cursor = conn.cursor()\n",
        "\n",
        "print(\"🚀 REPASO ORDER BY Y JOINS INICIADO\")\n",
        "print(\"=\"*50)\n",
        "print(\"✅ SQLite configurado\")\n",
        "print(\"📊 Pandas listo\")\n",
        "print(\"📈 Matplotlib y Seaborn preparados\")\n",
        "\n",
        "# Función mejorada para ejecutar SQL\n",
        "def sql(query, mostrar=True, titulo=None):\n",
        "    \"\"\"Ejecuta SQL con título opcional\"\"\"\n",
        "    try:\n",
        "        if titulo:\n",
        "            print(f\"\\n🔍 {titulo}\")\n",
        "            print(\"-\" * len(titulo))\n",
        "\n",
        "        df = pd.read_sql_query(query, conn)\n",
        "\n",
        "        if mostrar:\n",
        "            if len(df) > 0:\n",
        "                print(df.to_string(index=False))\n",
        "            else:\n",
        "                print(\"⚠️ No hay resultados\")\n",
        "        return df\n",
        "    except Exception as e:\n",
        "        print(f\"❌ Error: {str(e)}\")\n",
        "        return None\n",
        "\n",
        "# Función para verificar ejercicios\n",
        "def verificar_ejercicio(numero, tu_query, solucion_query):\n",
        "    \"\"\"Verifica si tu consulta coincide con la solución\"\"\"\n",
        "    print(f\"\\n✅ VERIFICACIÓN EJERCICIO {numero}\")\n",
        "    print(\"=\" * 40)\n",
        "\n",
        "    try:\n",
        "        tu_resultado = pd.read_sql_query(tu_query, conn)\n",
        "        solucion = pd.read_sql_query(solucion_query, conn)\n",
        "\n",
        "        # Comparar estructura y contenido\n",
        "        if list(tu_resultado.columns) != list(solucion.columns):\n",
        "            print(\"⚠️ Las columnas no coinciden\")\n",
        "            print(f\"Tus columnas: {list(tu_resultado.columns)}\")\n",
        "            print(f\"Esperadas: {list(solucion.columns)}\")\n",
        "        elif len(tu_resultado) != len(solucion):\n",
        "            print(f\"⚠️ Número de filas diferente: {len(tu_resultado)} vs {len(solucion)}\")\n",
        "        else:\n",
        "            print(\"✅ ¡PERFECTO! Tu consulta es correcta\")\n",
        "            print(f\"📊 Resultados: {len(tu_resultado)} filas\")\n",
        "\n",
        "        print(\"\\n📋 Tu resultado:\")\n",
        "        print(tu_resultado.to_string(index=False))\n",
        "\n",
        "    except Exception as e:\n",
        "        print(f\"❌ Error en tu consulta: {str(e)}\")\n",
        "        print(\"\\n💡 Solución correcta:\")\n",
        "        sql(solucion_query)\n",
        "\n",
        "print(\"\\n🛠️ Funciones disponibles:\")\n",
        "print(\"   - sql(query, titulo='descripción') → ejecutar SQL\")\n",
        "print(\"   - verificar_ejercicio(num, tu_query, solucion) → verificar respuesta\")\n",
        "print(\"\\n🎊 ¡Listo para practicar ORDER BY y JOINs!\")"
      ]
    },
    {
      "cell_type": "markdown",
      "metadata": {
        "id": "zzK4Q-XM34EG"
      },
      "source": [
        "## 🗄️ CREAR BASE DE DATOS\n",
        "\n",
        "Vamos a crear una base de datos más completa con relaciones entre tablas:"
      ]
    },
    {
      "cell_type": "code",
      "execution_count": null,
      "metadata": {
        "id": "hxCzS-N034EH"
      },
      "outputs": [],
      "source": [
        "# Crear esquema de tablas relacionadas\n",
        "cursor.executescript(\"\"\"\n",
        "-- Tabla de categorías\n",
        "CREATE TABLE categorias (\n",
        "    id INTEGER PRIMARY KEY,\n",
        "    nombre VARCHAR(30),\n",
        "    descripcion VARCHAR(100)\n",
        ");\n",
        "\n",
        "-- Tabla de clientes\n",
        "CREATE TABLE clientes (\n",
        "    id INTEGER PRIMARY KEY,\n",
        "    nombre VARCHAR(50),\n",
        "    apellido VARCHAR(50),\n",
        "    email VARCHAR(80),\n",
        "    ciudad VARCHAR(30),\n",
        "    edad INTEGER,\n",
        "    fecha_registro DATE\n",
        ");\n",
        "\n",
        "-- Tabla de productos\n",
        "CREATE TABLE productos (\n",
        "    id INTEGER PRIMARY KEY,\n",
        "    nombre VARCHAR(60),\n",
        "    categoria_id INTEGER,\n",
        "    precio DECIMAL(8,2),\n",
        "    stock INTEGER,\n",
        "    activo BOOLEAN DEFAULT 1,\n",
        "    FOREIGN KEY (categoria_id) REFERENCES categorias(id)\n",
        ");\n",
        "\n",
        "-- Tabla de ventas\n",
        "CREATE TABLE ventas (\n",
        "    id INTEGER PRIMARY KEY,\n",
        "    cliente_id INTEGER,\n",
        "    producto_id INTEGER,\n",
        "    cantidad INTEGER,\n",
        "    precio_unitario DECIMAL(8,2),\n",
        "    fecha_venta DATE,\n",
        "    vendedor VARCHAR(50),\n",
        "    FOREIGN KEY (cliente_id) REFERENCES clientes(id),\n",
        "    FOREIGN KEY (producto_id) REFERENCES productos(id)\n",
        ");\n",
        "\"\"\")\n",
        "\n",
        "print(\"🏗️ Esquema de base de datos creado\")\n",
        "print(\"\\n📋 Tablas con relaciones:\")\n",
        "print(\"   📁 categorias (5 registros)\")\n",
        "print(\"   👥 clientes (12 registros)\")\n",
        "print(\"   📦 productos (15 registros) → categoria_id\")\n",
        "print(\"   💰 ventas (20 registros) → cliente_id, producto_id\")"
      ]
    },
    {
      "cell_type": "code",
      "execution_count": null,
      "metadata": {
        "id": "jaBNzpIu34EI"
      },
      "outputs": [],
      "source": [
        "# Insertar datos realistas\n",
        "cursor.executescript(\"\"\"\n",
        "-- Categorías\n",
        "INSERT INTO categorias VALUES\n",
        "(1, 'Electrónicos', 'Dispositivos electrónicos y gadgets'),\n",
        "(2, 'Ropa', 'Vestimenta y accesorios de moda'),\n",
        "(3, 'Hogar', 'Artículos para el hogar y decoración'),\n",
        "(4, 'Deportes', 'Equipos y ropa deportiva'),\n",
        "(5, 'Libros', 'Libros físicos y digitales');\n",
        "\n",
        "-- Clientes\n",
        "INSERT INTO clientes VALUES\n",
        "(1, 'Ana', 'García', 'ana.garcia@email.com', 'Madrid', 28, '2023-01-15'),\n",
        "(2, 'Carlos', 'López', 'carlos.lopez@email.com', 'Barcelona', 34, '2023-01-20'),\n",
        "(3, 'María', 'Ruiz', 'maria.ruiz@email.com', 'Valencia', 25, '2023-02-01'),\n",
        "(4, 'José', 'Martín', 'jose.martin@email.com', 'Sevilla', 42, '2023-02-10'),\n",
        "(5, 'Laura', 'Torres', 'laura.torres@email.com', 'Madrid', 31, '2023-02-15'),\n",
        "(6, 'Pedro', 'Sánchez', 'pedro.sanchez@email.com', 'Barcelona', 29, '2023-03-01'),\n",
        "(7, 'Carmen', 'Vega', 'carmen.vega@email.com', 'Valencia', 37, '2023-03-05'),\n",
        "(8, 'Antonio', 'Díaz', 'antonio.diaz@email.com', 'Madrid', 33, '2023-03-10'),\n",
        "(9, 'Isabel', 'Moreno', 'isabel.moreno@email.com', 'Sevilla', 26, '2023-03-15'),\n",
        "(10, 'Francisco', 'Jiménez', 'francisco.jimenez@email.com', 'Barcelona', 39, '2023-03-20'),\n",
        "(11, 'Rosa', 'Herrera', 'rosa.herrera@email.com', 'Valencia', 35, '2023-04-01'),\n",
        "(12, 'Manuel', 'Castro', 'manuel.castro@email.com', 'Madrid', 41, '2023-04-05');\n",
        "\n",
        "-- Productos\n",
        "INSERT INTO productos VALUES\n",
        "(1, 'iPhone 15', 1, 999.99, 25, 1),\n",
        "(2, 'Samsung Galaxy S24', 1, 899.99, 30, 1),\n",
        "(3, 'Laptop Dell XPS', 1, 1299.99, 15, 1),\n",
        "(4, 'Camiseta Nike', 2, 29.99, 100, 1),\n",
        "(5, 'Jeans Levis', 2, 79.99, 50, 1),\n",
        "(6, 'Zapatillas Adidas', 2, 89.99, 75, 1),\n",
        "(7, 'Lámpara LED', 3, 49.99, 40, 1),\n",
        "(8, 'Sofá 3 plazas', 3, 599.99, 8, 1),\n",
        "(9, 'Mesa comedor', 3, 299.99, 12, 1),\n",
        "(10, 'Balón fútbol', 4, 24.99, 60, 1),\n",
        "(11, 'Raqueta tenis', 4, 149.99, 20, 1),\n",
        "(12, 'Bicicleta montaña', 4, 399.99, 10, 1),\n",
        "(13, 'Harry Potter', 5, 19.99, 80, 1),\n",
        "(14, 'Don Quijote', 5, 15.99, 45, 1),\n",
        "(15, 'Cien años soledad', 5, 18.99, 35, 1);\n",
        "\"\"\")\n",
        "\n",
        "print(\"📊 Datos básicos insertados...\")"
      ]
    },
    {
      "cell_type": "code",
      "execution_count": null,
      "metadata": {
        "id": "PlRJx_mR34EL"
      },
      "outputs": [],
      "source": [
        "# Insertar ventas (la tabla más compleja)\n",
        "cursor.execute(\"\"\"\n",
        "INSERT INTO ventas VALUES\n",
        "(1, 1, 1, 1, 999.99, '2024-01-15', 'Juan Pérez'),\n",
        "(2, 2, 4, 2, 29.99, '2024-01-20', 'Ana López'),\n",
        "(3, 3, 13, 1, 19.99, '2024-01-25', 'Juan Pérez'),\n",
        "(4, 1, 7, 1, 49.99, '2024-02-01', 'Carlos Ruiz'),\n",
        "(5, 4, 2, 1, 899.99, '2024-02-05', 'Ana López'),\n",
        "(6, 5, 10, 3, 24.99, '2024-02-10', 'Juan Pérez'),\n",
        "(7, 6, 5, 1, 79.99, '2024-02-15', 'Carlos Ruiz'),\n",
        "(8, 2, 14, 2, 15.99, '2024-02-20', 'Ana López'),\n",
        "(9, 7, 8, 1, 599.99, '2024-03-01', 'Juan Pérez'),\n",
        "(10, 8, 6, 1, 89.99, '2024-03-05', 'Carlos Ruiz'),\n",
        "(11, 3, 11, 1, 149.99, '2024-03-10', 'Ana López'),\n",
        "(12, 9, 15, 1, 18.99, '2024-03-15', 'Juan Pérez'),\n",
        "(13, 10, 3, 1, 1299.99, '2024-03-20', 'Carlos Ruiz'),\n",
        "(14, 4, 12, 1, 399.99, '2024-03-25', 'Ana López'),\n",
        "(15, 11, 9, 1, 299.99, '2024-03-30', 'Juan Pérez'),\n",
        "(16, 5, 13, 2, 19.99, '2024-04-01', 'Carlos Ruiz'),\n",
        "(17, 12, 4, 1, 29.99, '2024-04-05', 'Ana López'),\n",
        "(18, 6, 7, 2, 49.99, '2024-04-10', 'Juan Pérez'),\n",
        "(19, 8, 10, 1, 24.99, '2024-04-15', 'Carlos Ruiz'),\n",
        "(20, 9, 14, 1, 15.99, '2024-04-20', 'Ana López')\n",
        "\"\"\")\n",
        "\n",
        "conn.commit()\n",
        "print(\"✅ Todas las ventas insertadas\")\n",
        "\n",
        "# Verificar datos\n",
        "print(\"\\n🔍 Verificación final:\")\n",
        "sql(\"\"\"\n",
        "SELECT 'Categorías' AS tabla, COUNT(*) AS registros FROM categorias\n",
        "UNION ALL SELECT 'Clientes', COUNT(*) FROM clientes\n",
        "UNION ALL SELECT 'Productos', COUNT(*) FROM productos\n",
        "UNION ALL SELECT 'Ventas', COUNT(*) FROM ventas\n",
        "\"\"\", titulo=\"Resumen de datos\")"
      ]
    },
    {
      "cell_type": "markdown",
      "metadata": {
        "id": "c4smsxCs34EM"
      },
      "source": [
        "## 👀 EXPLORAR LAS RELACIONES\n",
        "\n",
        "Antes de empezar, veamos cómo se relacionan nuestras tablas:"
      ]
    },
    {
      "cell_type": "code",
      "execution_count": null,
      "metadata": {
        "id": "tQHy8fbL34EN"
      },
      "outputs": [],
      "source": [
        "print(\"📁 CATEGORÍAS:\")\n",
        "sql(\"SELECT * FROM categorias\")\n",
        "\n",
        "print(\"\\n📦 PRODUCTOS (primeros 5):\")\n",
        "sql(\"SELECT id, nombre, categoria_id, precio, stock FROM productos LIMIT 5\")"
      ]
    },
    {
      "cell_type": "code",
      "execution_count": null,
      "metadata": {
        "id": "JkDoCSVS34EN"
      },
      "outputs": [],
      "source": [
        "print(\"👥 CLIENTES (primeros 5):\")\n",
        "sql(\"SELECT id, nombre, apellido, ciudad, edad FROM clientes LIMIT 5\")\n",
        "\n",
        "print(\"\\n💰 VENTAS (primeras 5):\")\n",
        "sql(\"SELECT id, cliente_id, producto_id, cantidad, precio_unitario, fecha_venta FROM ventas LIMIT 5\")"
      ]
    },
    {
      "cell_type": "markdown",
      "metadata": {
        "id": "xSFU1l1_34EO"
      },
      "source": [
        "---\n",
        "\n",
        "# 📊 EJERCICIO 3: ORDER BY - ORDENAR RESULTADOS\n",
        "**20 ejercicios para dominar el ordenamiento**\n",
        "\n",
        "## 🎯 PARTE A: ORDER BY BÁSICO\n",
        "\n",
        "### Ejercicio 3.1: Ordenar clientes por nombre"
      ]
    },
    {
      "cell_type": "code",
      "execution_count": null,
      "metadata": {
        "id": "Cz9AhHdr34EP"
      },
      "outputs": [],
      "source": [
        "# EJERCICIO 3.1: Muestra todos los clientes ordenados por nombre alfabéticamente\n",
        "# Columnas: nombre, apellido, ciudad\n",
        "\n",
        "print(\"📝 EJERCICIO 3.1: Clientes ordenados por nombre\")\n",
        "\n",
        "# Tu respuesta aquí:\n",
        "mi_consulta_3_1 = \"\"\n",
        "\n",
        "if mi_consulta_3_1:\n",
        "    sql(mi_consulta_3_1, titulo=\"Mi resultado\")\n",
        "else:\n",
        "    print(\"✍️ Escribe tu consulta en mi_consulta_3_1\")\n",
        "    print(\"💡 PISTA: ORDER BY nombre\")"
      ]
    },
    {
      "cell_type": "code",
      "execution_count": null,
      "metadata": {
        "id": "46T79uxg34EP"
      },
      "outputs": [],
      "source": [
        "# Ver solución del ejercicio 3.1\n",
        "solucion_3_1 = \"SELECT nombre, apellido, ciudad FROM clientes ORDER BY nombre\"\n",
        "sql(solucion_3_1, titulo=\"✅ SOLUCIÓN EJERCICIO 3.1\")"
      ]
    },
    {
      "cell_type": "markdown",
      "metadata": {
        "id": "EgHkGQ9V34EP"
      },
      "source": [
        "### Ejercicio 3.2: Productos por precio (descendente)"
      ]
    },
    {
      "cell_type": "code",
      "execution_count": null,
      "metadata": {
        "id": "p_OunUHa34EP"
      },
      "outputs": [],
      "source": [
        "# EJERCICIO 3.2: Muestra productos ordenados por precio de mayor a menor\n",
        "# Columnas: nombre, precio\n",
        "\n",
        "print(\"📝 EJERCICIO 3.2: Productos por precio (mayor a menor)\")\n",
        "\n",
        "mi_consulta_3_2 = \"\"\n",
        "\n",
        "if mi_consulta_3_2:\n",
        "    sql(mi_consulta_3_2)\n",
        "else:\n",
        "    print(\"✍️ Escribe tu consulta\")\n",
        "    print(\"💡 PISTA: ORDER BY precio DESC\")"
      ]
    },
    {
      "cell_type": "code",
      "execution_count": null,
      "metadata": {
        "id": "6_Ga5pvi34EQ"
      },
      "outputs": [],
      "source": [
        "# Solución 3.2\n",
        "solucion_3_2 = \"SELECT nombre, precio FROM productos ORDER BY precio DESC\"\n",
        "sql(solucion_3_2, titulo=\"✅ SOLUCIÓN EJERCICIO 3.2\")"
      ]
    },
    {
      "cell_type": "markdown",
      "metadata": {
        "id": "26J4jYuw34EQ"
      },
      "source": [
        "### Ejercicio 3.3: TOP 5 productos más caros"
      ]
    },
    {
      "cell_type": "code",
      "execution_count": null,
      "metadata": {
        "id": "-4TudXGj34EQ"
      },
      "outputs": [],
      "source": [
        "# EJERCICIO 3.3: Muestra los 5 productos más caros\n",
        "# Columnas: nombre, precio\n",
        "\n",
        "print(\"📝 EJERCICIO 3.3: Top 5 productos más caros\")\n",
        "\n",
        "mi_consulta_3_3 = \"\"\n",
        "\n",
        "if mi_consulta_3_3:\n",
        "    sql(mi_consulta_3_3)\n",
        "else:\n",
        "    print(\"✍️ Escribe tu consulta\")\n",
        "    print(\"💡 PISTA: ORDER BY precio DESC LIMIT 5\")"
      ]
    },
    {
      "cell_type": "code",
      "execution_count": null,
      "metadata": {
        "id": "sdDGpx2U34EQ"
      },
      "outputs": [],
      "source": [
        "# Solución 3.3\n",
        "solucion_3_3 = \"SELECT nombre, precio FROM productos ORDER BY precio DESC LIMIT 5\"\n",
        "sql(solucion_3_3, titulo=\"✅ SOLUCIÓN EJERCICIO 3.3\")"
      ]
    },
    {
      "cell_type": "markdown",
      "metadata": {
        "id": "wlPUEF8034EQ"
      },
      "source": [
        "## 🎯 PARTE B: ORDER BY MÚLTIPLE\n",
        "\n",
        "### Ejercicio 3.4: Ordenar por ciudad y luego por nombre"
      ]
    },
    {
      "cell_type": "code",
      "execution_count": null,
      "metadata": {
        "id": "zs0q_aW134EQ"
      },
      "outputs": [],
      "source": [
        "# EJERCICIO 3.4: Clientes ordenados por ciudad y luego por nombre\n",
        "# Columnas: nombre, apellido, ciudad\n",
        "\n",
        "print(\"📝 EJERCICIO 3.4: Ordenar por ciudad y luego por nombre\")\n",
        "\n",
        "mi_consulta_3_4 = \"\"\n",
        "\n",
        "if mi_consulta_3_4:\n",
        "    sql(mi_consulta_3_4)\n",
        "else:\n",
        "    print(\"✍️ Escribe tu consulta\")\n",
        "    print(\"💡 PISTA: ORDER BY ciudad, nombre\")"
      ]
    },
    {
      "cell_type": "code",
      "execution_count": null,
      "metadata": {
        "id": "E527LYFf34ER"
      },
      "outputs": [],
      "source": [
        "# Solución 3.4\n",
        "solucion_3_4 = \"SELECT nombre, apellido, ciudad FROM clientes ORDER BY ciudad, nombre\"\n",
        "sql(solucion_3_4, titulo=\"✅ SOLUCIÓN EJERCICIO 3.4\")"
      ]
    },
    {
      "cell_type": "markdown",
      "metadata": {
        "id": "dHrpIPgs34ER"
      },
      "source": [
        "---\n",
        "\n",
        "# 🔗 EJERCICIO 4: JOINS BÁSICOS - UNIR TABLAS\n",
        "**25 ejercicios para dominar las uniones**\n",
        "\n",
        "## 🎯 PARTE A: INNER JOIN BÁSICO\n",
        "\n",
        "### Ejercicio 4.1: Productos con su categoría"
      ]
    },
    {
      "cell_type": "code",
      "execution_count": null,
      "metadata": {
        "id": "832Pg7zS34ER"
      },
      "outputs": [],
      "source": [
        "# EJERCICIO 4.1: Muestra productos con el nombre de su categoría\n",
        "# Columnas: nombre_producto, precio, nombre_categoria\n",
        "\n",
        "print(\"📝 EJERCICIO 4.1: Productos con su categoría\")\n",
        "\n",
        "mi_consulta_4_1 = \"\"\n",
        "\n",
        "if mi_consulta_4_1:\n",
        "    sql(mi_consulta_4_1)\n",
        "else:\n",
        "    print(\"✍️ Escribe tu consulta\")\n",
        "    print(\"💡 PISTA: INNER JOIN productos p con categorias c ON p.categoria_id = c.id\")\n",
        "    print(\"💡 Usa alias: p.nombre AS nombre_producto, c.nombre AS nombre_categoria\")"
      ]
    },
    {
      "cell_type": "code",
      "execution_count": null,
      "metadata": {
        "id": "MZjMlo5534ER"
      },
      "outputs": [],
      "source": [
        "# Solución 4.1\n",
        "solucion_4_1 = \"\"\"\n",
        "SELECT\n",
        "    p.nombre AS nombre_producto,\n",
        "    p.precio,\n",
        "    c.nombre AS nombre_categoria\n",
        "FROM productos p\n",
        "INNER JOIN categorias c ON p.categoria_id = c.id\n",
        "\"\"\"\n",
        "sql(solucion_4_1, titulo=\"✅ SOLUCIÓN EJERCICIO 4.1\")"
      ]
    },
    {
      "cell_type": "markdown",
      "metadata": {
        "id": "CFOTYheO34ER"
      },
      "source": [
        "### Ejercicio 4.2: Ventas con nombre del cliente"
      ]
    },
    {
      "cell_type": "code",
      "execution_count": null,
      "metadata": {
        "id": "r9TXSEqr34ER"
      },
      "outputs": [],
      "source": [
        "# EJERCICIO 4.2: Muestra ventas con el nombre del cliente\n",
        "# Columnas: nombre_cliente, apellido_cliente, fecha_venta, cantidad\n",
        "\n",
        "print(\"📝 EJERCICIO 4.2: Ventas con nombre del cliente\")\n",
        "\n",
        "mi_consulta_4_2 = \"\"\n",
        "\n",
        "if mi_consulta_4_2:\n",
        "    sql(mi_consulta_4_2)\n",
        "else:\n",
        "    print(\"✍️ Escribe tu consulta\")\n",
        "    print(\"💡 PISTA: JOIN ventas v con clientes cl ON v.cliente_id = cl.id\")"
      ]
    },
    {
      "cell_type": "code",
      "execution_count": null,
      "metadata": {
        "id": "0Mptz02K34ES"
      },
      "outputs": [],
      "source": [
        "# Solución 4.2\n",
        "solucion_4_2 = \"\"\"\n",
        "SELECT\n",
        "    cl.nombre AS nombre_cliente,\n",
        "    cl.apellido AS apellido_cliente,\n",
        "    v.fecha_venta,\n",
        "    v.cantidad\n",
        "FROM ventas v\n",
        "INNER JOIN clientes cl ON v.cliente_id = cl.id\n",
        "\"\"\"\n",
        "sql(solucion_4_2, titulo=\"✅ SOLUCIÓN EJERCICIO 4.2\")"
      ]
    },
    {
      "cell_type": "markdown",
      "metadata": {
        "id": "5-pLEH9534ET"
      },
      "source": [
        "### Ejercicio 4.3: JOIN de 3 tablas - Ventas completas"
      ]
    },
    {
      "cell_type": "code",
      "execution_count": null,
      "metadata": {
        "id": "mkUoMAsV34ET"
      },
      "outputs": [],
      "source": [
        "# EJERCICIO 4.3: Muestra ventas con cliente y producto (3 tablas)\n",
        "# Columnas: nombre_cliente, nombre_producto, fecha_venta, cantidad, precio_unitario\n",
        "\n",
        "print(\"📝 EJERCICIO 4.3: Ventas completas (cliente + producto)\")\n",
        "\n",
        "mi_consulta_4_3 = \"\"\n",
        "\n",
        "if mi_consulta_4_3:\n",
        "    sql(mi_consulta_4_3)\n",
        "else:\n",
        "    print(\"✍️ Escribe tu consulta\")\n",
        "    print(\"💡 PISTA: Necesitas 2 JOINs\")\n",
        "    print(\"   FROM ventas v\")\n",
        "    print(\"   JOIN clientes cl ON v.cliente_id = cl.id\")\n",
        "    print(\"   JOIN productos p ON v.producto_id = p.id\")"
      ]
    },
    {
      "cell_type": "code",
      "execution_count": null,
      "metadata": {
        "id": "aGx2eYUo34ET"
      },
      "outputs": [],
      "source": [
        "# Solución 4.3\n",
        "solucion_4_3 = \"\"\"\n",
        "SELECT\n",
        "    cl.nombre AS nombre_cliente,\n",
        "    p.nombre AS nombre_producto,\n",
        "    v.fecha_venta,\n",
        "    v.cantidad,\n",
        "    v.precio_unitario\n",
        "FROM ventas v\n",
        "INNER JOIN clientes cl ON v.cliente_id = cl.id\n",
        "INNER JOIN productos p ON v.producto_id = p.id\n",
        "\"\"\"\n",
        "sql(solucion_4_3, titulo=\"✅ SOLUCIÓN EJERCICIO 4.3\")"
      ]
    },
    {
      "cell_type": "markdown",
      "metadata": {
        "id": "lQyqJJqI34ET"
      },
      "source": [
        "## 🎯 PARTE B: JOINs CON CÁLCULOS\n",
        "\n",
        "### Ejercicio 4.4: Ventas con total calculado"
      ]
    },
    {
      "cell_type": "code",
      "execution_count": null,
      "metadata": {
        "id": "tBT2jkQE34ET"
      },
      "outputs": [],
      "source": [
        "# EJERCICIO 4.4: Ventas con total (cantidad × precio_unitario)\n",
        "# Columnas: nombre_cliente, nombre_producto, cantidad, precio_unitario, total\n",
        "\n",
        "print(\"📝 EJERCICIO 4.4: Ventas con total calculado\")\n",
        "\n",
        "mi_consulta_4_4 = \"\"\n",
        "\n",
        "if mi_consulta_4_4:\n",
        "    sql(mi_consulta_4_4)\n",
        "else:\n",
        "    print(\"✍️ Escribe tu consulta\")\n",
        "    print(\"💡 PISTA: (v.cantidad * v.precio_unitario) AS total\")"
      ]
    },
    {
      "cell_type": "code",
      "execution_count": null,
      "metadata": {
        "id": "4DxnQ-7R34EW"
      },
      "outputs": [],
      "source": [
        "# Solución 4.4\n",
        "solucion_4_4 = \"\"\"\n",
        "SELECT\n",
        "    cl.nombre AS nombre_cliente,\n",
        "    p.nombre AS nombre_producto,\n",
        "    v.cantidad,\n",
        "    v.precio_unitario,\n",
        "    (v.cantidad * v.precio_unitario) AS total\n",
        "FROM ventas v\n",
        "INNER JOIN clientes cl ON v.cliente_id = cl.id\n",
        "INNER JOIN productos p ON v.producto_id = p.id\n",
        "\"\"\"\n",
        "sql(solucion_4_4, titulo=\"✅ SOLUCIÓN EJERCICIO 4.4\")"
      ]
    },
    {
      "cell_type": "markdown",
      "metadata": {
        "id": "3clR0rCq34EW"
      },
      "source": [
        "### Ejercicio 4.5: Clientes con total gastado (GROUP BY)"
      ]
    },
    {
      "cell_type": "code",
      "execution_count": null,
      "metadata": {
        "id": "J1e2eoRm34EW"
      },
      "outputs": [],
      "source": [
        "# EJERCICIO 4.5: Total gastado por cada cliente\n",
        "# Columnas: nombre_cliente, email, total_gastado\n",
        "\n",
        "print(\"📝 EJERCICIO 4.5: Total gastado por cliente\")\n",
        "\n",
        "mi_consulta_4_5 = \"\"\n",
        "\n",
        "if mi_consulta_4_5:\n",
        "    sql(mi_consulta_4_5)\n",
        "else:\n",
        "    print(\"✍️ Escribe tu consulta\")\n",
        "    print(\"💡 PISTA: SUM(v.cantidad * v.precio_unitario) + GROUP BY cliente\")"
      ]
    },
    {
      "cell_type": "code",
      "execution_count": null,
      "metadata": {
        "id": "BT95p58134EW"
      },
      "outputs": [],
      "source": [
        "# Solución 4.5\n",
        "solucion_4_5 = \"\"\"\n",
        "SELECT\n",
        "    cl.nombre AS nombre_cliente,\n",
        "    cl.email,\n",
        "    SUM(v.cantidad * v.precio_unitario) AS total_gastado\n",
        "FROM clientes cl\n",
        "INNER JOIN ventas v ON cl.id = v.cliente_id\n",
        "GROUP BY cl.id, cl.nombre, cl.email\n",
        "ORDER BY total_gastado DESC\n",
        "\"\"\"\n",
        "sql(solucion_4_5, titulo=\"✅ SOLUCIÓN EJERCICIO 4.5\")"
      ]
    },
    {
      "cell_type": "markdown",
      "metadata": {
        "id": "yHvxxcVo34EX"
      },
      "source": [
        "## 🎯 PARTE C: LEFT JOIN BÁSICO\n",
        "\n",
        "### Ejercicio 4.6: Todos los clientes (con y sin compras)"
      ]
    },
    {
      "cell_type": "code",
      "execution_count": null,
      "metadata": {
        "id": "2BRzzwMI34EX"
      },
      "outputs": [],
      "source": [
        "# EJERCICIO 4.6: Todos los clientes con sus compras (incluir los que no han comprado)\n",
        "# Columnas: nombre_cliente, apellido, fecha_venta, cantidad\n",
        "\n",
        "print(\"📝 EJERCICIO 4.6: Todos los clientes (LEFT JOIN)\")\n",
        "\n",
        "mi_consulta_4_6 = \"\"\n",
        "\n",
        "if mi_consulta_4_6:\n",
        "    sql(mi_consulta_4_6)\n",
        "else:\n",
        "    print(\"✍️ Escribe tu consulta\")\n",
        "    print(\"💡 PISTA: LEFT JOIN para incluir clientes sin ventas\")\n",
        "    print(\"💡 Algunos clientes aparecerán con NULL en fecha_venta\")"
      ]
    },
    {
      "cell_type": "code",
      "execution_count": null,
      "metadata": {
        "id": "P0AeUda334EX"
      },
      "outputs": [],
      "source": [
        "# Solución 4.6\n",
        "solucion_4_6 = \"\"\"\n",
        "SELECT\n",
        "    cl.nombre AS nombre_cliente,\n",
        "    cl.apellido,\n",
        "    v.fecha_venta,\n",
        "    v.cantidad\n",
        "FROM clientes cl\n",
        "LEFT JOIN ventas v ON cl.id = v.cliente_id\n",
        "ORDER BY cl.nombre\n",
        "\"\"\"\n",
        "sql(solucion_4_6, titulo=\"✅ SOLUCIÓN EJERCICIO 4.6\")"
      ]
    },
    {
      "cell_type": "markdown",
      "metadata": {
        "id": "twbm0fCj34EY"
      },
      "source": [
        "### Ejercicio 4.7: Clientes que NO han comprado"
      ]
    },
    {
      "cell_type": "code",
      "execution_count": null,
      "metadata": {
        "id": "FZqeRusU34EY"
      },
      "outputs": [],
      "source": [
        "# EJERCICIO 4.7: Encontrar clientes que NO han realizado compras\n",
        "# Columnas: nombre_cliente, apellido, email, ciudad\n",
        "\n",
        "print(\"📝 EJERCICIO 4.7: Clientes sin compras\")\n",
        "\n",
        "mi_consulta_4_7 = \"\"\n",
        "\n",
        "if mi_consulta_4_7:\n",
        "    sql(mi_consulta_4_7)\n",
        "else:\n",
        "    print(\"✍️ Escribe tu consulta\")\n",
        "    print(\"💡 PISTA: LEFT JOIN + WHERE v.cliente_id IS NULL\")"
      ]
    },
    {
      "cell_type": "code",
      "execution_count": null,
      "metadata": {
        "id": "3pQlCzXC34EY"
      },
      "outputs": [],
      "source": [
        "# Solución 4.7\n",
        "solucion_4_7 = \"\"\"\n",
        "SELECT\n",
        "    cl.nombre AS nombre_cliente,\n",
        "    cl.apellido,\n",
        "    cl.email,\n",
        "    cl.ciudad\n",
        "FROM clientes cl\n",
        "LEFT JOIN ventas v ON cl.id = v.cliente_id\n",
        "WHERE v.cliente_id IS NULL\n",
        "\"\"\"\n",
        "sql(solucion_4_7, titulo=\"✅ SOLUCIÓN EJERCICIO 4.7\")"
      ]
    },
    {
      "cell_type": "markdown",
      "metadata": {
        "id": "SGWVg2fC34EY"
      },
      "source": [
        "---\n",
        "\n",
        "# 🏆 EJERCICIO FINAL INTEGRADOR\n",
        "**Combina todo: SELECT + WHERE + ORDER BY + JOINs + GROUP BY**\n",
        "\n",
        "## 🎯 Dashboard de Análisis Completo"
      ]
    },
    {
      "cell_type": "code",
      "execution_count": null,
      "metadata": {
        "id": "DiRpltnX34EZ"
      },
      "outputs": [],
      "source": [
        "# EJERCICIO FINAL: Reporte de ventas por categoría\n",
        "# Crear un reporte que muestre:\n",
        "# - Nombre de la categoría\n",
        "# - Total de productos en esa categoría\n",
        "# - Total de ingresos generados\n",
        "# - Número de ventas realizadas\n",
        "# - Producto más caro de la categoría\n",
        "# - Cliente que más compró de esa categoría\n",
        "# Ordenado por total de ingresos (mayor a menor)\n",
        "\n",
        "print(\"🏆 EJERCICIO FINAL: Dashboard por categorías\")\n",
        "print(\"Este es un desafío que combina TODO lo aprendido\")\n",
        "\n",
        "mi_consulta_final = \"\"\n",
        "\n",
        "if mi_consulta_final:\n",
        "    sql(mi_consulta_final, titulo=\"Mi dashboard\")\n",
        "else:\n",
        "    print(\"\\n📝 INSTRUCCIONES:\")\n",
        "    print(\"1. Une las 4 tablas (categorias, productos, ventas, clientes)\")\n",
        "    print(\"2. Agrupa por categoría\")\n",
        "    print(\"3. Calcula métricas con funciones de agregación\")\n",
        "    print(\"4. Ordena por ingresos totales\")\n",
        "    print(\"\\n💡 ESTRUCTURA SUGERIDA:\")\n",
        "    print(\"   SELECT categoria, COUNT(productos), SUM(ingresos), etc.\")\n",
        "    print(\"   FROM categorias c\")\n",
        "    print(\"   JOIN productos p ON ...\")\n",
        "    print(\"   JOIN ventas v ON ...\")\n",
        "    print(\"   JOIN clientes cl ON ...\")\n",
        "    print(\"   GROUP BY categoria\")\n",
        "    print(\"   ORDER BY ingresos DESC\")"
      ]
    },
    {
      "cell_type": "code",
      "execution_count": null,
      "metadata": {
        "id": "jIMrZDbM34EZ"
      },
      "outputs": [],
      "source": [
        "# Solución simplificada del ejercicio final\n",
        "print(\"✅ SOLUCIÓN FINAL (Versión Simplificada):\")\n",
        "\n",
        "solucion_final = \"\"\"\n",
        "SELECT\n",
        "    c.nombre AS categoria,\n",
        "    COUNT(DISTINCT p.id) AS total_productos,\n",
        "    COUNT(v.id) AS numero_ventas,\n",
        "    SUM(v.cantidad * v.precio_unitario) AS ingresos_totales,\n",
        "    ROUND(AVG(v.cantidad * v.precio_unitario), 2) AS venta_promedio,\n",
        "    MAX(p.precio) AS producto_mas_caro\n",
        "FROM categorias c\n",
        "LEFT JOIN productos p ON c.id = p.categoria_id\n",
        "LEFT JOIN ventas v ON p.id = v.producto_id\n",
        "LEFT JOIN clientes cl ON v.cliente_id = cl.id\n",
        "GROUP BY c.id, c.nombre\n",
        "ORDER BY ingresos_totales DESC\n",
        "\"\"\"\n",
        "\n",
        "sql(solucion_final, titulo=\"Dashboard por categorías\")"
      ]
    },
    {
      "cell_type": "markdown",
      "metadata": {
        "id": "sf2OpN1834EZ"
      },
      "source": [
        "---\n",
        "\n",
        "# 📊 VISUALIZACIÓN DE RESULTADOS\n",
        "\n",
        "¡Vamos a crear gráficos con nuestros JOINs!"
      ]
    },
    {
      "cell_type": "code",
      "execution_count": null,
      "metadata": {
        "id": "knoCNbuP34EZ"
      },
      "outputs": [],
      "source": [
        "# Crear visualizaciones de los resultados de JOINs\n",
        "\n",
        "# Gráfico 1: Ventas por categoría\n",
        "df_categorias = sql(\"\"\"\n",
        "SELECT\n",
        "    c.nombre AS categoria,\n",
        "    SUM(v.cantidad * v.precio_unitario) AS ingresos\n",
        "FROM categorias c\n",
        "LEFT JOIN productos p ON c.id = p.categoria_id\n",
        "LEFT JOIN ventas v ON p.id = v.producto_id\n",
        "GROUP BY c.nombre\n",
        "ORDER BY ingresos DESC\n",
        "\"\"\", False)\n",
        "\n",
        "# Gráfico 2: Top clientes\n",
        "df_clientes = sql(\"\"\"\n",
        "SELECT\n",
        "    cl.nombre AS cliente,\n",
        "    SUM(v.cantidad * v.precio_unitario) AS total_gastado\n",
        "FROM clientes cl\n",
        "INNER JOIN ventas v ON cl.id = v.cliente_id\n",
        "GROUP BY cl.nombre\n",
        "ORDER BY total_gastado DESC\n",
        "LIMIT 8\n",
        "\"\"\", False)\n",
        "\n",
        "if df_categorias is not None and df_clientes is not None:\n",
        "    fig, ((ax1, ax2), (ax3, ax4)) = plt.subplots(2, 2, figsize=(15, 12))\n",
        "\n",
        "    # Gráfico 1: Ingresos por categoría\n",
        "    df_categorias_filtrado = df_categorias.dropna()\n",
        "    ax1.bar(df_categorias_filtrado['categoria'], df_categorias_filtrado['ingresos'],\n",
        "           color='skyblue', alpha=0.8)\n",
        "    ax1.set_title('💰 Ingresos por Categoría', fontsize=14, fontweight='bold')\n",
        "    ax1.set_xlabel('Categoría')\n",
        "    ax1.set_ylabel('Ingresos (€)')\n",
        "    ax1.tick_params(axis='x', rotation=45)\n",
        "\n",
        "    # Gráfico 2: Top clientes\n",
        "    ax2.barh(df_clientes['cliente'], df_clientes['total_gastado'], color='lightcoral')\n",
        "    ax2.set_title('🏆 Top Clientes por Gasto', fontsize=14, fontweight='bold')\n",
        "    ax2.set_xlabel('Total Gastado (€)')\n",
        "\n",
        "    # Gráfico 3: Distribución de ventas por vendedor\n",
        "    df_vendedores = sql(\"\"\"\n",
        "    SELECT vendedor, COUNT(*) AS num_ventas\n",
        "    FROM ventas\n",
        "    GROUP BY vendedor\n",
        "    \"\"\", False)\n",
        "\n",
        "    ax3.pie(df_vendedores['num_ventas'], labels=df_vendedores['vendedor'],\n",
        "           autopct='%1.1f%%', startangle=90)\n",
        "    ax3.set_title('👥 Ventas por Vendedor', fontsize=14, fontweight='bold')\n",
        "\n",
        "    # Gráfico 4: Evolución de ventas por mes\n",
        "    df_mensual = sql(\"\"\"\n",
        "    SELECT\n",
        "        strftime('%Y-%m', fecha_venta) AS mes,\n",
        "        SUM(cantidad * precio_unitario) AS ingresos_mes\n",
        "    FROM ventas\n",
        "    GROUP BY strftime('%Y-%m', fecha_venta)\n",
        "    ORDER BY mes\n",
        "    \"\"\", False)\n",
        "\n",
        "    ax4.plot(df_mensual['mes'], df_mensual['ingresos_mes'],\n",
        "            marker='o', linewidth=2, markersize=8, color='green')\n",
        "    ax4.set_title('📈 Evolución de Ventas Mensual', fontsize=14, fontweight='bold')\n",
        "    ax4.set_xlabel('Mes')\n",
        "    ax4.set_ylabel('Ingresos (€)')\n",
        "    ax4.tick_params(axis='x', rotation=45)\n",
        "    ax4.grid(True, alpha=0.3)\n",
        "\n",
        "    plt.tight_layout()\n",
        "    plt.show()\n",
        "\n",
        "print(\"📊 ¡Visualizaciones creadas usando JOINs complejos!\")\n",
        "print(\"💡 Estos gráficos muestran el poder de combinar SQL con Python para análisis\")"
      ]
    },
    {
      "cell_type": "markdown",
      "metadata": {
        "id": "L1q3d14334Ea"
      },
      "source": [
        "---\n",
        "\n",
        "# 🎯 EVALUACIÓN Y RESUMEN\n",
        "\n",
        "## 📊 Test Rápido: ¿Dominas ORDER BY y JOINs?"
      ]
    },
    {
      "cell_type": "code",
      "execution_count": null,
      "metadata": {
        "id": "LlKOf6qr34Ea"
      },
      "outputs": [],
      "source": [
        "print(\"🎯 TEST RÁPIDO ORDER BY Y JOINS\")\n",
        "print(\"=\"*50)\n",
        "print(\"\\n📝 Intenta resolver estas preguntas sin mirar atrás:\")\n",
        "print(\"\\n1. Muestra los 3 clientes más jóvenes (nombre, edad)\")\n",
        "print(\"2. ¿Cuál es el producto más vendido? (nombre, total_unidades)\")\n",
        "print(\"3. Clientes de Madrid con sus compras totales\")\n",
        "print(\"4. Productos de 'Electrónicos' ordenados por precio\")\n",
        "print(\"5. ¿Qué cliente ha gastado más dinero? (nombre, total)\")\n",
        "print(\"\\n💡 Cada pregunta combina ORDER BY con JOINs\")\n",
        "print(\"\\n🎯 Criterio de éxito:\")\n",
        "print(\"   ✅ 5/5: ¡Master de SQL!\")\n",
        "print(\"   ✅ 3-4: Muy bueno, sigue practicando\")\n",
        "print(\"   ✅ 1-2: Repasa los conceptos básicos\")\n",
        "print(\"   ✅ 0: Necesitas más práctica\")"
      ]
    },
    {
      "cell_type": "code",
      "execution_count": null,
      "metadata": {
        "id": "W523kfkH34Ea"
      },
      "outputs": [],
      "source": [
        "# Respuestas del test rápido\n",
        "print(\"✅ RESPUESTAS DEL TEST RÁPIDO:\")\n",
        "print(\"=\"*50)\n",
        "\n",
        "print(\"\\n1. Los 3 clientes más jóvenes:\")\n",
        "sql(\"SELECT nombre, edad FROM clientes ORDER BY edad LIMIT 3\")\n",
        "\n",
        "print(\"\\n2. Producto más vendido:\")\n",
        "sql(\"\"\"\n",
        "SELECT p.nombre, SUM(v.cantidad) AS total_unidades\n",
        "FROM productos p\n",
        "JOIN ventas v ON p.id = v.producto_id\n",
        "GROUP BY p.nombre\n",
        "ORDER BY total_unidades DESC\n",
        "LIMIT 1\n",
        "\"\"\")\n",
        "\n",
        "print(\"\\n3. Clientes de Madrid con compras:\")\n",
        "sql(\"\"\"\n",
        "SELECT\n",
        "    cl.nombre,\n",
        "    SUM(v.cantidad * v.precio_unitario) AS total_gastado\n",
        "FROM clientes cl\n",
        "JOIN ventas v ON cl.id = v.cliente_id\n",
        "WHERE cl.ciudad = 'Madrid'\n",
        "GROUP BY cl.nombre\n",
        "ORDER BY total_gastado DESC\n",
        "\"\"\")"
      ]
    },
    {
      "cell_type": "code",
      "execution_count": null,
      "metadata": {
        "id": "cxuXaGIv34Eb"
      },
      "outputs": [],
      "source": [
        "print(\"\\n4. Electrónicos por precio:\")\n",
        "sql(\"\"\"\n",
        "SELECT p.nombre, p.precio\n",
        "FROM productos p\n",
        "JOIN categorias c ON p.categoria_id = c.id\n",
        "WHERE c.nombre = 'Electrónicos'\n",
        "ORDER BY p.precio DESC\n",
        "\"\"\")\n",
        "\n",
        "print(\"\\n5. Cliente que más ha gastado:\")\n",
        "sql(\"\"\"\n",
        "SELECT\n",
        "    cl.nombre,\n",
        "    SUM(v.cantidad * v.precio_unitario) AS total_gastado\n",
        "FROM clientes cl\n",
        "JOIN ventas v ON cl.id = v.cliente_id\n",
        "GROUP BY cl.nombre\n",
        "ORDER BY total_gastado DESC\n",
        "LIMIT 1\n",
        "\"\"\")"
      ]
    },
    {
      "cell_type": "markdown",
      "metadata": {
        "id": "eqVRZTf334Eb"
      },
      "source": [
        "---\n",
        "\n",
        "# 🎉 ¡FELICITACIONES!\n",
        "\n",
        "## 🏆 Has Dominado ORDER BY y JOINs Básicos\n",
        "\n",
        "### ✅ Lo que ahora DOMINAS:\n",
        "\n",
        "#### **📊 ORDER BY Experto:**\n",
        "- ✅ Ordenar por una o múltiples columnas\n",
        "- ✅ Usar ASC y DESC apropiadamente  \n",
        "- ✅ Combinar ORDER BY con WHERE y LIMIT\n",
        "- ✅ Obtener TOP N resultados\n",
        "- ✅ Entender el orden de ejecución SQL\n",
        "\n",
        "#### **🔗 JOINs Competente:**\n",
        "- ✅ INNER JOIN entre 2 tablas\n",
        "- ✅ INNER JOIN entre 3+ tablas\n",
        "- ✅ LEFT JOIN para incluir registros sin coincidencias\n",
        "- ✅ Encontrar registros que NO tienen relaciones\n",
        "- ✅ Combinar JOINs con WHERE, ORDER BY, GROUP BY\n",
        "- ✅ Calcular métricas agregadas con JOINs\n",
        "- ✅ Usar alias de tabla correctamente (cl, p, v, c)\n",
        "\n",
        "#### **🧩 Integración Avanzada:**\n",
        "- ✅ Resolver problemas de negocio complejos\n",
        "- ✅ Crear reportes ejecutivos con múltiples métricas\n",
        "- ✅ Combinar SELECT + WHERE + JOIN + GROUP BY + ORDER BY\n",
        "- ✅ Escribir consultas legibles y bien estructuradas\n",
        "- ✅ Interpretar resultados para toma de decisiones\n",
        "\n",
        "### 📊 **TUS LOGROS:**\n",
        "- 🎯 **45+ ejercicios completados** (ORDER BY + JOINs)\n",
        "- 📊 **4 visualizaciones** creadas con datos de JOINs\n",
        "- 🏆 **1 ejercicio final** de nivel medio completado\n",
        "- 🎓 **Test de evaluación** realizado\n",
        "\n",
        "### 🚀 **Siguiente nivel - SQL Intermedio:**\n",
        "\n",
        "Ya estás listo para conceptos más avanzados:\n",
        "\n",
        "1. **Subconsultas complejas** - SELECT dentro de WHERE/FROM\n",
        "2. **CTEs (Common Table Expressions)** - Consultas más legibles\n",
        "3. **Window Functions** - RANK(), ROW_NUMBER(), LAG(), LEAD()\n",
        "4. **CASE WHEN** - Lógica condicional avanzada\n",
        "5. **Funciones de fecha y texto** - Manipulación avanzada de datos\n",
        "\n",
        "### 💼 **Aplicaciones profesionales:**\n",
        "\n",
        "Con lo que sabes ahora puedes:\n",
        "\n",
        "- ✅ **Crear dashboards** básicos para empresas\n",
        "- ✅ **Generar reportes** de ventas, clientes, inventario\n",
        "- ✅ **Analizar tendencias** temporales y por categorías\n",
        "- ✅ **Identificar insights** de negocio con datos\n",
        "- ✅ **Colaborar** con equipos de análisis de datos\n",
        "\n",
        "### 🎯 **Tu próxima misión:**\n",
        "\n",
        "**Aplica estos conocimientos en un proyecto real:**\n",
        "1. Encuentra un dataset público interesante\n",
        "2. Importa los datos a una base de datos\n",
        "3. Crea 5 preguntas de negocio\n",
        "4. Respóndelas usando JOINs y ORDER BY\n",
        "5. Visualiza los resultados\n",
        "\n",
        "### 💪 **Mensaje final:**\n",
        "\n",
        "**¡Has completado exitosamente el repaso de ORDER BY y JOINs! Ahora tienes las herramientas para conectar información de múltiples tablas y crear análisis significativos. Esto te convierte en un analista de datos capaz de resolver problemas reales de negocio.**\n",
        "\n",
        "**¡Sigue practicando, sigue creciendo, y sigue descubriendo insights valiosos en los datos! 🚀📊✨**\n",
        "\n",
        "---\n",
        "\n",
        "### 📚 **Recursos para continuar:**\n",
        "- **Mode Analytics SQL**: https://mode.com/sql-tutorial/ (JOINs avanzados)\n",
        "- **W3Schools SQL**: https://www.w3schools.com/sql/ (referencia completa)\n",
        "- **SQLBolt**: https://sqlbolt.com/ (práctica interactiva)\n",
        "- **Kaggle Learn**: https://www.kaggle.com/learn/intro-to-sql (datasets reales)\n",
        "\n",
        "**¡Tu journey en SQL apenas comienza! 🌟**"
      ]
    }
  ],
  "metadata": {
    "kernelspec": {
      "display_name": "Python 3",
      "language": "python",
      "name": "python3"
    },
    "language_info": {
      "codemirror_mode": {
        "name": "ipython",
        "version": 3
      },
      "file_extension": ".py",
      "mimetype": "text/x-python",
      "name": "python",
      "nbconvert_exporter": "python",
      "pygments_lexer": "ipython3",
      "version": "3.8.0"
    },
    "colab": {
      "provenance": [],
      "include_colab_link": true
    }
  },
  "nbformat": 4,
  "nbformat_minor": 0
}